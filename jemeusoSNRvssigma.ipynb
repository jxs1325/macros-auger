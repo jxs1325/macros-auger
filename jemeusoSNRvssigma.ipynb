{
 "cells": [
  {
   "cell_type": "code",
   "execution_count": 2,
   "metadata": {},
   "outputs": [
    {
     "data": {
      "image/png": "[encoded data removed]",
      "text/plain": [
       "<Figure size 432x288 with 1 Axes>"
      ]
     },
     "metadata": {},
     "output_type": "display_data"
    }
   ],
   "source": [
    "#jemeuso plot for SNR of blackbody number of photons for D=400km\n",
    "\n",
    "from scipy.interpolate import interp1d\n",
    "import io\n",
    "import csv\n",
    "import sys\n",
    "import numpy as np\n",
    "import matplotlib.pyplot as plt\n",
    "import matplotlib\n",
    "import scipy\n",
    "import os\n",
    "\n",
    "#Define Plot\n",
    "fig = plt.figure()\n",
    "ax = fig.add_subplot(111)\n",
    "x=np.logspace(-7,3)\n",
    "x1=np.logspace(-9,-5.26)\n",
    "x2=np.logspace(-5.26,-2.60)\n",
    "x3=np.logspace(-2.6,4.43)\n",
    "x4=np.logspace(-1,1)\n",
    "#X-axis\n",
    "ax.set_xlabel('$\\sigma_\\t{X}$ [cm$^{2}$]',fontsize=12)\n",
    "ax.set_xlim([x.min(),x.max()])\n",
    "\n",
    "#Y-axis\n",
    "ymin=10**0\n",
    "ymax=10**4\n",
    "ax.set_ylim([ymin,ymax])\n",
    "ax.set_ylabel('SNR',fontsize=12)\n",
    "\n",
    "#SNR = 5\n",
    "ax.loglog(x,5*x**0,'k',markersize=4,color='k',lw=1,zorder=0,linestyle='dashed',label='SNR = 5')\n",
    "\n",
    "#10^-7 to 9*10^-7\n",
    "# ax.loglog(x1, ((0.2*5.476*10**27*x1**3.531/400)/(1+(1.826*10**-24*400)/(x1**3.531)))**0.5, 'k', markersize=4, color='g',lw=1,label='JEMEUSO bb',zorder=0)\n",
    "ax.loglog(x1, (0.25)**0.5*((0.5*10**21*np.exp(-0.4*1)*x1**3/400)/(1+(2*1*10**-17*400*np.exp(0.4*1))/(x1**3)))**0.5, 'k', markersize=4, color='g',lw=1,zorder=0)\n",
    "\n",
    "#9*10^-7, 0.0625\n",
    "# ax.loglog(x2, ((0.2*2.874*10**15*x2**1.5/400)/(1+(3.480*10**-12*400)/(x2**1.5)))**0.5, 'k', markersize=4, color='g',lw=1,zorder=0)\n",
    "\n",
    "ax.loglog(x2, (0.25)**0.5*((0.5*5*10**15*np.exp(-0.3*1)*x2**2/400)/(1+(2*2*10**-12*400*np.exp(0.3*1))/(x2**2)))**0.5, 'k', markersize=4, color='g',lw=1,zorder=0)\n",
    "#0.0625 to 0.1\n",
    "\n",
    "ax.loglog(x3, (0.25)**0.5*((0.5*5*10**7*np.exp(0.1*1)*x3**-1/400)/(1+(2*2*10**-4*400*np.exp(-0.1*1))/(x3**-1)))**0.5, 'k', markersize=4, color='g',lw=1,label='SNR D=20km',zorder=0)\n",
    "\n",
    "# ax.loglog(x3, ((0.2*4.490*10**13*x3**0/400)/(1+(2.227*10**-10*400)/(x3**0)))**0.5, 'k', markersize=4, color='g',lw=1,zorder=0)\n",
    "#0.1, 10\n",
    "# ax.loglog(x4, ((0.2*4.490*10**12*x4**-1/400)/(1+(2.227*10**-9*400)/(x4**-1)))**0.5, 'k', markersize=4, color='g',lw=1,zorder=0)\n",
    "\n",
    "leg = ax.legend(loc='upper left', shadow=True)\n",
    "ax.grid(True)\n",
    "plt.tight_layout()\n",
    "plt.savefig('jemeusobbplot.pdf')\n",
    "plt.show()\n",
    "\n"
   ]
  },
  {
   "cell_type": "code",
   "execution_count": null,
   "metadata": {
    "collapsed": true
   },
   "outputs": [],
   "source": []
  }
 ],
 "metadata": {
  "kernelspec": {
   "display_name": "Python 3",
   "language": "python",
   "name": "python3"
  },
  "language_info": {
   "codemirror_mode": {
    "name": "ipython",
    "version": 3
   },
   "file_extension": ".py",
   "mimetype": "text/x-python",
   "name": "python",
   "nbconvert_exporter": "python",
   "pygments_lexer": "ipython3",
   "version": "3.6.5"
  }
 },
 "nbformat": 4,
 "nbformat_minor": 2
}
